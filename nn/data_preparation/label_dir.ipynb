{
 "cells": [
  {
   "cell_type": "code",
   "execution_count": 2,
   "id": "782c4f11",
   "metadata": {},
   "outputs": [
    {
     "name": "stdout",
     "output_type": "stream",
     "text": [
      "Requirement already satisfied: numpy in c:\\users\\user01\\anaconda3\\lib\\site-packages (1.24.3)\n"
     ]
    }
   ],
   "source": [
    "!pip install numpy"
   ]
  },
  {
   "cell_type": "code",
   "execution_count": 3,
   "id": "9ccff3b7",
   "metadata": {},
   "outputs": [
    {
     "name": "stdout",
     "output_type": "stream",
     "text": [
      "Requirement already satisfied: pandas in c:\\users\\user01\\anaconda3\\lib\\site-packages (2.0.3)\n",
      "Requirement already satisfied: python-dateutil>=2.8.2 in c:\\users\\user01\\anaconda3\\lib\\site-packages (from pandas) (2.8.2)\n",
      "Requirement already satisfied: pytz>=2020.1 in c:\\users\\user01\\anaconda3\\lib\\site-packages (from pandas) (2023.3.post1)\n",
      "Requirement already satisfied: tzdata>=2022.1 in c:\\users\\user01\\anaconda3\\lib\\site-packages (from pandas) (2023.3)\n",
      "Requirement already satisfied: numpy>=1.21.0 in c:\\users\\user01\\anaconda3\\lib\\site-packages (from pandas) (1.24.3)\n",
      "Requirement already satisfied: six>=1.5 in c:\\users\\user01\\anaconda3\\lib\\site-packages (from python-dateutil>=2.8.2->pandas) (1.16.0)\n"
     ]
    }
   ],
   "source": [
    "!pip install pandas"
   ]
  },
  {
   "cell_type": "code",
   "execution_count": 47,
   "id": "52671f45",
   "metadata": {},
   "outputs": [],
   "source": [
    "import pandas as pd\n",
    "import os\n",
    "\n",
    "df = pd.read_csv('df_bboxes.csv')"
   ]
  },
  {
   "cell_type": "code",
   "execution_count": 64,
   "id": "d29b7c52",
   "metadata": {},
   "outputs": [
    {
     "data": {
      "text/plain": [
       "array(['crack_1', 'no_defect', 'marker', 'dirt', 'attrition', 'crack_2',\n",
       "       'dint', 'ledge_2', 'black_point', 'mech_damage', 'line_defect',\n",
       "       'scratch_damage', 'ledge_1', 'crack_3', nan], dtype=object)"
      ]
     },
     "execution_count": 64,
     "metadata": {},
     "output_type": "execute_result"
    }
   ],
   "source": [
    "df.name_defect.unique()"
   ]
  },
  {
   "cell_type": "code",
   "execution_count": 49,
   "id": "2fc7038d",
   "metadata": {},
   "outputs": [],
   "source": [
    "parent_dir = \"./\"\n",
    "\n",
    "path = os.path.join(parent_dir, 'labels')\n",
    "\n",
    "os.mkdir(path)"
   ]
  },
  {
   "cell_type": "code",
   "execution_count": 46,
   "id": "a92e33fb",
   "metadata": {},
   "outputs": [
    {
     "data": {
      "text/plain": [
       "array(['crack_1', 779.0, 296.0, 839.0, 376.0], dtype=object)"
      ]
     },
     "execution_count": 46,
     "metadata": {},
     "output_type": "execute_result"
    }
   ],
   "source": [
    "#df.loc[(df['new_path'] == '1.jpg') & (df['name_defect'] != 'no_defect')][['name_defect', 'x_min', 'y_min', 'x_max', 'y_max']].values[0]"
   ]
  },
  {
   "cell_type": "code",
   "execution_count": 71,
   "id": "1b473305",
   "metadata": {},
   "outputs": [],
   "source": [
    "new_classes = {\n",
    "    'attrition' : '0',\n",
    "    'crack_3' : '0',\n",
    "    'ledge_1' : '0',\n",
    "    'ledge_2' : '0',\n",
    "    'black_point' : '1',\n",
    "    'crack_1' : '1',\n",
    "    'marker' : '2',\n",
    "    'dirt' : '2',\n",
    "    'crack_2' : '3',\n",
    "    'dint' : '3',\n",
    "    'mech_damage' : '3',\n",
    "    'line_defect' : '3',\n",
    "    'scratch_damage' : '3',\n",
    "}"
   ]
  },
  {
   "cell_type": "code",
   "execution_count": null,
   "id": "2de79262",
   "metadata": {},
   "outputs": [],
   "source": [
    "for name in df.new_path.unique():\n",
    "    log = df.loc[(df['new_path'] == name) & (df['name_defect'] != 'no_defect')][['name_defect', 'x_min', 'y_min', 'x_max', 'y_max']]\n",
    "    \n",
    "    if len(log) > 0:\n",
    "        with open(f''.join([path, '/', name[:-4], '.txt']), 'w') as f:\n",
    "            log = log.values\n",
    "                  \n",
    "            for ind in range(len(log)):\n",
    "                line = log[ind]\n",
    "                w = str((line[3] - line[1])/960)\n",
    "                h = str((line[4] - line[2])/600)\n",
    "                x = str((line[1] + line[3])/2/960)\n",
    "                y = str((line[2] + line[4])/2/600)\n",
    "                class_name = line[0]\n",
    "\n",
    "                f.writelines(' '.join([new_classes[class_name], x, y, w, h, '\\n']))  \n",
    "                  "
   ]
  }
 ],
 "metadata": {
  "kernelspec": {
   "display_name": "Python 3 (ipykernel)",
   "language": "python",
   "name": "python3"
  },
  "language_info": {
   "codemirror_mode": {
    "name": "ipython",
    "version": 3
   },
   "file_extension": ".py",
   "mimetype": "text/x-python",
   "name": "python",
   "nbconvert_exporter": "python",
   "pygments_lexer": "ipython3",
   "version": "3.11.5"
  }
 },
 "nbformat": 4,
 "nbformat_minor": 5
}
